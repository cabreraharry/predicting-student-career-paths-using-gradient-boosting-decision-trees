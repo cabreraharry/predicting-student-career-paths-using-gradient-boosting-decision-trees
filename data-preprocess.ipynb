{
 "cells": [
  {
   "cell_type": "markdown",
   "metadata": {},
   "source": [
    "Load the Data"
   ]
  },
  {
   "cell_type": "code",
   "execution_count": null,
   "metadata": {},
   "outputs": [],
   "source": [
    "import pandas as pd\n",
    "\n",
    "data = pd.read_csv(\"MOCK_DATA.csv\")"
   ]
  },
  {
   "cell_type": "markdown",
   "metadata": {},
   "source": [
    "Remove Non-Predictive Columns"
   ]
  },
  {
   "cell_type": "code",
   "execution_count": null,
   "metadata": {},
   "outputs": [],
   "source": [
    "data = data.drop(['student_id', 'name'], axis=1)"
   ]
  },
  {
   "cell_type": "markdown",
   "metadata": {},
   "source": [
    "Handle Categorical Features"
   ]
  },
  {
   "cell_type": "code",
   "execution_count": null,
   "metadata": {},
   "outputs": [],
   "source": [
    "# converts yes or no to boolean\n",
    "data['interest_stem'] = data['interest_stem'].apply(lambda x: 1 if x == \"Yes\" else 0)\n",
    "data['interest_arts'] = data['interest_arts'].apply(lambda x: 1 if x == \"Yes\" else 0)\n",
    "\n",
    "\n",
    "# encode gender\n",
    "data['gender'] = data['gender'].map({'Male': 0, 'Female': 1})\n",
    "\n",
    "\n",
    "# encode socio-economic status\n",
    "data = pd.get_dummies(data, columns=['socioeconomic_status'], drop_first=True)\n"
   ]
  },
  {
   "cell_type": "markdown",
   "metadata": {},
   "source": [
    "Defining the Target Variable"
   ]
  },
  {
   "cell_type": "code",
   "execution_count": null,
   "metadata": {},
   "outputs": [],
   "source": [
    "# Add a mock target variable based on existing features\n",
    "# This is just an example; customize based on your domain knowledge\n",
    "def assign_career(row):\n",
    "    if row['interest_stem'] == 1 and row['math_grade'] > 0.8:\n",
    "        return \"Engineering\"\n",
    "    elif row['interest_arts'] == 1:\n",
    "        return \"Arts\"\n",
    "    else:\n",
    "        return \"Business\"\n",
    "\n",
    "data['career_path'] = data.apply(assign_career, axis=1)\n"
   ]
  },
  {
   "cell_type": "markdown",
   "metadata": {},
   "source": [
    "Spliting the data into training and testing sets"
   ]
  },
  {
   "cell_type": "code",
   "execution_count": null,
   "metadata": {},
   "outputs": [],
   "source": [
    "from sklearn.model_selection import train_test_split\n",
    "\n",
    "# Separate features (X) and target (y)\n",
    "X = data.drop('career_path', axis=1)\n",
    "y = data['career_path']\n",
    "\n",
    "# Split into training and testing sets (70%-30%)\n",
    "X_train, X_test, y_train, y_test = train_test_split(X, y, test_size=0.3, random_state=42)\n"
   ]
  },
  {
   "cell_type": "markdown",
   "metadata": {},
   "source": [
    "Check for Missing Values"
   ]
  },
  {
   "cell_type": "code",
   "execution_count": null,
   "metadata": {},
   "outputs": [],
   "source": [
    "# Check for missing values\n",
    "print(data.isnull().sum())\n"
   ]
  }
 ],
 "metadata": {
  "kernelspec": {
   "display_name": ".venv",
   "language": "python",
   "name": "python3"
  },
  "language_info": {
   "name": "python",
   "version": "3.11.8"
  }
 },
 "nbformat": 4,
 "nbformat_minor": 2
}
